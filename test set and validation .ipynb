{
 "cells": [
  {
   "cell_type": "markdown",
   "metadata": {},
   "source": [
    "Inference and Validation\n",
    "Now that you have a trained network, you can use it for making predictions. This is typically called inference, a term borrowed from statistics. However, neural networks have a tendency to perform too well on the training data and aren't able to generalize to data that hasn't been seen before. This is called overfitting and it impairs inference performance.\n",
    "\n",
    "\n",
    "\n",
    "To test for overfitting while training, we measure the performance on data not in the training set called the validation set. We avoid overfitting through regularization such as dropout while monitoring the validation performance during training. In this notebook, I'll show you how to do this in PyTorch.\n",
    "\n",
    "As usual, let's start by loading the dataset through torchvision. You'll learn more about torchvision and loading data in a later part. This time we'll be taking advantage of the test set which you can get by setting train=False here:\n",
    "\n",
    "testset = datasets.FashionMNIST('~/.pytorch/F_MNIST_data/', download=True, train=False, transform=transform)\n",
    "The test set contains images just like the training set. Typically you'll see 10-20% of the original dataset held out for testing and validation with the rest being used for training."
   ]
  },
  {
   "cell_type": "code",
   "execution_count": 1,
   "metadata": {},
   "outputs": [
    {
     "name": "stdout",
     "output_type": "stream",
     "text": [
      "Downloading http://fashion-mnist.s3-website.eu-central-1.amazonaws.com/train-images-idx3-ubyte.gz to C:\\Users\\akash/.pytorch/F_MNIST_data/FashionMNIST\\raw\\train-images-idx3-ubyte.gz\n"
     ]
    },
    {
     "name": "stderr",
     "output_type": "stream",
     "text": [
      "100%|█████████████████████████████████████████████████████████████████▉| 26411008/26421880 [00:20<00:00, 503261.90it/s]"
     ]
    },
    {
     "name": "stdout",
     "output_type": "stream",
     "text": [
      "Extracting C:\\Users\\akash/.pytorch/F_MNIST_data/FashionMNIST\\raw\\train-images-idx3-ubyte.gz to C:\\Users\\akash/.pytorch/F_MNIST_data/FashionMNIST\\raw\n",
      "Downloading http://fashion-mnist.s3-website.eu-central-1.amazonaws.com/train-labels-idx1-ubyte.gz to C:\\Users\\akash/.pytorch/F_MNIST_data/FashionMNIST\\raw\\train-labels-idx1-ubyte.gz\n"
     ]
    },
    {
     "name": "stderr",
     "output_type": "stream",
     "text": [
      "\n",
      "0it [00:00, ?it/s]\n",
      "  0%|                                                                                        | 0/29515 [00:00<?, ?it/s]\n",
      " 56%|████████████████████████████████████████▌                                | 16384/29515 [00:00<00:00, 81673.65it/s]\n",
      "32768it [00:00, 41709.25it/s]                                                                                          "
     ]
    },
    {
     "name": "stdout",
     "output_type": "stream",
     "text": [
      "Extracting C:\\Users\\akash/.pytorch/F_MNIST_data/FashionMNIST\\raw\\train-labels-idx1-ubyte.gz to C:\\Users\\akash/.pytorch/F_MNIST_data/FashionMNIST\\raw\n",
      "Downloading http://fashion-mnist.s3-website.eu-central-1.amazonaws.com/t10k-images-idx3-ubyte.gz to C:\\Users\\akash/.pytorch/F_MNIST_data/FashionMNIST\\raw\\t10k-images-idx3-ubyte.gz\n"
     ]
    },
    {
     "name": "stderr",
     "output_type": "stream",
     "text": [
      "\n",
      "0it [00:00, ?it/s]\n",
      "  0%|                                                                                      | 0/4422102 [00:00<?, ?it/s]\n",
      "  0%|▎                                                                      | 16384/4422102 [00:00<00:46, 93761.22it/s]\n",
      "  1%|▊                                                                     | 49152/4422102 [00:00<00:40, 108613.14it/s]\n",
      "  2%|█▋                                                                   | 106496/4422102 [00:00<00:31, 134950.02it/s]\n",
      "  4%|██▋                                                                  | 172032/4422102 [00:01<00:25, 164174.98it/s]\n",
      "  5%|███▋                                                                 | 237568/4422102 [00:01<00:20, 200412.09it/s]\n",
      " 10%|██████▋                                                              | 425984/4422102 [00:01<00:15, 264869.87it/s]\n",
      " 15%|██████████▏                                                          | 655360/4422102 [00:01<00:10, 359998.40it/s]\n",
      " 19%|█████████████▍                                                       | 860160/4422102 [00:01<00:07, 474694.64it/s]\n",
      " 27%|██████████████████▎                                                 | 1187840/4422102 [00:01<00:05, 637953.48it/s]\n",
      " 34%|██████████████████████▊                                             | 1482752/4422102 [00:01<00:03, 827388.00it/s]\n",
      " 42%|███████████████████████████▉                                       | 1843200/4422102 [00:02<00:02, 1075918.68it/s]\n",
      " 49%|████████████████████████████████▉                                  | 2170880/4422102 [00:02<00:01, 1346207.00it/s]\n",
      " 55%|█████████████████████████████████████▋                              | 2449408/4422102 [00:03<00:03, 533401.96it/s]\n",
      " 63%|███████████████████████████████████████████                         | 2801664/4422102 [00:03<00:02, 687686.79it/s]\n",
      " 68%|██████████████████████████████████████████████▍                     | 3022848/4422102 [00:03<00:01, 866306.47it/s]\n",
      " 77%|███████████████████████████████████████████████████▋               | 3407872/4422102 [00:03<00:00, 1121156.72it/s]\n",
      " 83%|███████████████████████████████████████████████████████▋           | 3678208/4422102 [00:03<00:00, 1356646.64it/s]\n",
      " 97%|█████████████████████████████████████████████████████████████████▎ | 4308992/4422102 [00:04<00:00, 1266489.34it/s]\n",
      "4423680it [00:04, 966717.27it/s]                                                                                       "
     ]
    },
    {
     "name": "stdout",
     "output_type": "stream",
     "text": [
      "Extracting C:\\Users\\akash/.pytorch/F_MNIST_data/FashionMNIST\\raw\\t10k-images-idx3-ubyte.gz to C:\\Users\\akash/.pytorch/F_MNIST_data/FashionMNIST\\raw\n",
      "Downloading http://fashion-mnist.s3-website.eu-central-1.amazonaws.com/t10k-labels-idx1-ubyte.gz to C:\\Users\\akash/.pytorch/F_MNIST_data/FashionMNIST\\raw\\t10k-labels-idx1-ubyte.gz\n"
     ]
    },
    {
     "name": "stderr",
     "output_type": "stream",
     "text": [
      "\n",
      "0it [00:00, ?it/s]\n",
      "  0%|                                                                                         | 0/5148 [00:00<?, ?it/s]\n",
      "8192it [00:00, 18182.26it/s]                                                                                           "
     ]
    },
    {
     "name": "stdout",
     "output_type": "stream",
     "text": [
      "Extracting C:\\Users\\akash/.pytorch/F_MNIST_data/FashionMNIST\\raw\\t10k-labels-idx1-ubyte.gz to C:\\Users\\akash/.pytorch/F_MNIST_data/FashionMNIST\\raw\n",
      "Processing...\n",
      "Done!\n"
     ]
    }
   ],
   "source": [
    "import torch\n",
    "from torchvision import datasets, transforms\n",
    "\n",
    "# Define a transform to normalize the data\n",
    "transform = transforms.Compose([transforms.ToTensor(),\n",
    "                                transforms.Normalize((0.5,), (0.5,))])\n",
    "# Download and load the training data\n",
    "trainset = datasets.FashionMNIST('~/.pytorch/F_MNIST_data/', download=True, train=True, transform=transform)\n",
    "trainloader = torch.utils.data.DataLoader(trainset, batch_size=64, shuffle=True)\n",
    "\n",
    "# Download and load the test data\n",
    "testset = datasets.FashionMNIST('~/.pytorch/F_MNIST_data/', download=True, train=False, transform=transform)\n",
    "testloader = torch.utils.data.DataLoader(testset, batch_size=64, shuffle=True)"
   ]
  },
  {
   "cell_type": "code",
   "execution_count": 2,
   "metadata": {},
   "outputs": [],
   "source": [
    "from torch import nn, optim\n",
    "import torch.nn.functional as F\n",
    "\n",
    "class Classifier(nn.Module):\n",
    "    def __init__(self):\n",
    "        super().__init__()\n",
    "        self.fc1 = nn.Linear(784, 256)\n",
    "        self.fc2 = nn.Linear(256, 128)\n",
    "        self.fc3 = nn.Linear(128, 64)\n",
    "        self.fc4 = nn.Linear(64, 10)\n",
    "        \n",
    "    def forward(self, x):\n",
    "        # make sure input tensor is flattened\n",
    "        x = x.view(x.shape[0], -1)\n",
    "        \n",
    "        x = F.relu(self.fc1(x))\n",
    "        x = F.relu(self.fc2(x))\n",
    "        x = F.relu(self.fc3(x))\n",
    "        x = F.log_softmax(self.fc4(x), dim=1)\n",
    "        \n",
    "        return x"
   ]
  },
  {
   "cell_type": "code",
   "execution_count": 3,
   "metadata": {},
   "outputs": [
    {
     "name": "stdout",
     "output_type": "stream",
     "text": [
      "torch.Size([64, 10])\n"
     ]
    },
    {
     "name": "stderr",
     "output_type": "stream",
     "text": [
      "\r",
      "26427392it [00:40, 503261.90it/s]                                                                                      "
     ]
    }
   ],
   "source": [
    "model = Classifier()\n",
    "\n",
    "images, labels = next(iter(testloader))\n",
    "# Get the class probabilities\n",
    "ps = torch.exp(model(images))\n",
    "# Make sure the shape is appropriate, we should get 10 class probabilities for 64 examples\n",
    "print(ps.shape)"
   ]
  },
  {
   "cell_type": "markdown",
   "metadata": {},
   "source": [
    "With the probabilities, we can get the most likely class using the ps.topk method.\n",
    "This returns the  𝑘  highest values. Since we just want the most likely class, we can use ps.topk(1).\n",
    "This returns a tuple of the top- 𝑘  values and the top- 𝑘  indices. If the highest value is the fifth element, \n",
    "we'll get back 4 as the index."
   ]
  },
  {
   "cell_type": "code",
   "execution_count": 8,
   "metadata": {},
   "outputs": [
    {
     "name": "stdout",
     "output_type": "stream",
     "text": [
      "torch.Size([64, 1])\n",
      "torch.Size([64, 1])\n",
      "tensor([[0.1192],\n",
      "        [0.1231],\n",
      "        [0.1226],\n",
      "        [0.1229],\n",
      "        [0.1229],\n",
      "        [0.1233],\n",
      "        [0.1213],\n",
      "        [0.1247],\n",
      "        [0.1211],\n",
      "        [0.1236]], grad_fn=<SliceBackward>)\n",
      "tensor([[8],\n",
      "        [8],\n",
      "        [8],\n",
      "        [8],\n",
      "        [8],\n",
      "        [8],\n",
      "        [8],\n",
      "        [8],\n",
      "        [8],\n",
      "        [8]])\n"
     ]
    }
   ],
   "source": [
    "\n",
    "top_p, top_class = ps.topk(1, dim=1)\n",
    "print(top_p.shape)\n",
    "print(top_class.shape)\n",
    "# Look at the most likely classes for the first 10 examples\n",
    "print(top_p[:10,:])\n",
    "print(top_class[:10,:])"
   ]
  },
  {
   "cell_type": "markdown",
   "metadata": {},
   "source": [
    "Now we can check if the predicted classes match the labels. This is simple to do by equating top_class and labels, but we have to be careful of the shapes. Here top_class is a 2D tensor with shape (64, 1) while labels is 1D with shape (64). To get the equality to work out the way we want, top_class and labels must have the same shape.\n",
    "\n",
    "If we do\n",
    "\n",
    "equals = top_class == labels\n",
    "equals will have shape (64, 64), try it yourself. What it's doing is comparing the one element in each row of top_class with each element in labels which returns 64 True/False boolean values for each row."
   ]
  },
  {
   "cell_type": "code",
   "execution_count": 18,
   "metadata": {},
   "outputs": [
    {
     "data": {
      "text/plain": [
       "tensor([[7],\n",
       "        [3],\n",
       "        [1],\n",
       "        [6],\n",
       "        [1],\n",
       "        [4],\n",
       "        [7],\n",
       "        [3],\n",
       "        [7],\n",
       "        [9],\n",
       "        [4],\n",
       "        [5],\n",
       "        [3],\n",
       "        [4],\n",
       "        [3],\n",
       "        [5],\n",
       "        [3],\n",
       "        [6],\n",
       "        [5],\n",
       "        [9],\n",
       "        [3],\n",
       "        [1],\n",
       "        [3],\n",
       "        [0],\n",
       "        [5],\n",
       "        [8],\n",
       "        [1],\n",
       "        [2],\n",
       "        [2],\n",
       "        [1],\n",
       "        [1],\n",
       "        [0],\n",
       "        [9],\n",
       "        [9],\n",
       "        [4],\n",
       "        [8],\n",
       "        [8],\n",
       "        [6],\n",
       "        [6],\n",
       "        [2],\n",
       "        [1],\n",
       "        [1],\n",
       "        [6],\n",
       "        [6],\n",
       "        [3],\n",
       "        [8],\n",
       "        [6],\n",
       "        [9],\n",
       "        [8],\n",
       "        [1],\n",
       "        [1],\n",
       "        [1],\n",
       "        [8],\n",
       "        [5],\n",
       "        [3],\n",
       "        [2],\n",
       "        [5],\n",
       "        [3],\n",
       "        [6],\n",
       "        [7],\n",
       "        [6],\n",
       "        [8],\n",
       "        [2],\n",
       "        [0]])"
      ]
     },
     "execution_count": 18,
     "metadata": {},
     "output_type": "execute_result"
    }
   ],
   "source": [
    "a=labels.view(*top_class.shape)\n",
    "a"
   ]
  },
  {
   "cell_type": "code",
   "execution_count": 19,
   "metadata": {},
   "outputs": [
    {
     "data": {
      "text/plain": [
       "tensor([[8],\n",
       "        [8],\n",
       "        [8],\n",
       "        [8],\n",
       "        [8],\n",
       "        [8],\n",
       "        [8],\n",
       "        [8],\n",
       "        [8],\n",
       "        [8],\n",
       "        [8],\n",
       "        [8],\n",
       "        [8],\n",
       "        [8],\n",
       "        [8],\n",
       "        [8],\n",
       "        [8],\n",
       "        [8],\n",
       "        [8],\n",
       "        [8],\n",
       "        [8],\n",
       "        [8],\n",
       "        [8],\n",
       "        [8],\n",
       "        [8],\n",
       "        [8],\n",
       "        [8],\n",
       "        [8],\n",
       "        [8],\n",
       "        [8],\n",
       "        [8],\n",
       "        [8],\n",
       "        [8],\n",
       "        [8],\n",
       "        [8],\n",
       "        [8],\n",
       "        [8],\n",
       "        [8],\n",
       "        [8],\n",
       "        [8],\n",
       "        [8],\n",
       "        [8],\n",
       "        [8],\n",
       "        [8],\n",
       "        [8],\n",
       "        [8],\n",
       "        [8],\n",
       "        [8],\n",
       "        [8],\n",
       "        [8],\n",
       "        [8],\n",
       "        [8],\n",
       "        [8],\n",
       "        [8],\n",
       "        [8],\n",
       "        [8],\n",
       "        [8],\n",
       "        [8],\n",
       "        [8],\n",
       "        [8],\n",
       "        [8],\n",
       "        [8],\n",
       "        [8],\n",
       "        [8]])"
      ]
     },
     "execution_count": 19,
     "metadata": {},
     "output_type": "execute_result"
    }
   ],
   "source": [
    "top_class"
   ]
  },
  {
   "cell_type": "code",
   "execution_count": 9,
   "metadata": {},
   "outputs": [],
   "source": [
    "equals = top_class == labels.view(*top_class.shape)"
   ]
  },
  {
   "cell_type": "code",
   "execution_count": 20,
   "metadata": {},
   "outputs": [
    {
     "data": {
      "text/plain": [
       "torch.Size([64, 1])"
      ]
     },
     "execution_count": 20,
     "metadata": {},
     "output_type": "execute_result"
    }
   ],
   "source": [
    "equals.shape"
   ]
  },
  {
   "cell_type": "markdown",
   "metadata": {},
   "source": [
    "Now we need to calculate the percentage of correct predictions. equals has binary values, either 0 or 1. This means that if we just sum up all the values and divide by the number of values, we get the percentage of correct predictions. This is the same operation as taking the mean, so we can get the accuracy with a call to torch.mean. If only it was that simple. If you try torch.mean(equals), you'll get an error\n",
    "\n",
    "RuntimeError: mean is not implemented for type torch.ByteTensor\n",
    "This happens because equals has type torch.ByteTensor but torch.mean isn't implement for tensors with that type. So we'll need to convert equals to a float tensor. Note that when we take torch.mean it returns a scalar tensor, to get the actual value as a float we'll need to do accuracy.item()."
   ]
  },
  {
   "cell_type": "code",
   "execution_count": 21,
   "metadata": {},
   "outputs": [
    {
     "name": "stdout",
     "output_type": "stream",
     "text": [
      "tensor(0.1094)\n",
      "<built-in method type of Tensor object at 0x0000023C97B2A6C0>\n",
      "Accuracy: 10.9375%\n"
     ]
    }
   ],
   "source": [
    "accuracy = torch.mean(equals.type(torch.FloatTensor))\n",
    "print(accuracy)\n",
    "print(accuracy.type)\n",
    "print(f'Accuracy: {accuracy.item()*100}%')"
   ]
  },
  {
   "cell_type": "code",
   "execution_count": 22,
   "metadata": {},
   "outputs": [
    {
     "name": "stdout",
     "output_type": "stream",
     "text": [
      "Epoch: 1/30..  Training Loss: 0.508..  Test Loss: 0.459..  Test Accuracy: 0.836\n",
      "Epoch: 2/30..  Training Loss: 0.392..  Test Loss: 0.409..  Test Accuracy: 0.850\n",
      "Epoch: 3/30..  Training Loss: 0.355..  Test Loss: 0.407..  Test Accuracy: 0.856\n",
      "Epoch: 4/30..  Training Loss: 0.334..  Test Loss: 0.373..  Test Accuracy: 0.872\n",
      "Epoch: 5/30..  Training Loss: 0.317..  Test Loss: 0.380..  Test Accuracy: 0.868\n",
      "Epoch: 6/30..  Training Loss: 0.304..  Test Loss: 0.390..  Test Accuracy: 0.865\n",
      "Epoch: 7/30..  Training Loss: 0.290..  Test Loss: 0.379..  Test Accuracy: 0.873\n",
      "Epoch: 8/30..  Training Loss: 0.285..  Test Loss: 0.361..  Test Accuracy: 0.875\n",
      "Epoch: 9/30..  Training Loss: 0.275..  Test Loss: 0.412..  Test Accuracy: 0.865\n",
      "Epoch: 10/30..  Training Loss: 0.269..  Test Loss: 0.357..  Test Accuracy: 0.880\n",
      "Epoch: 11/30..  Training Loss: 0.261..  Test Loss: 0.364..  Test Accuracy: 0.875\n",
      "Epoch: 12/30..  Training Loss: 0.253..  Test Loss: 0.373..  Test Accuracy: 0.877\n",
      "Epoch: 13/30..  Training Loss: 0.245..  Test Loss: 0.375..  Test Accuracy: 0.873\n",
      "Epoch: 14/30..  Training Loss: 0.239..  Test Loss: 0.385..  Test Accuracy: 0.880\n",
      "Epoch: 15/30..  Training Loss: 0.236..  Test Loss: 0.373..  Test Accuracy: 0.883\n",
      "Epoch: 16/30..  Training Loss: 0.233..  Test Loss: 0.359..  Test Accuracy: 0.883\n",
      "Epoch: 17/30..  Training Loss: 0.223..  Test Loss: 0.374..  Test Accuracy: 0.880\n",
      "Epoch: 18/30..  Training Loss: 0.224..  Test Loss: 0.411..  Test Accuracy: 0.879\n",
      "Epoch: 19/30..  Training Loss: 0.217..  Test Loss: 0.383..  Test Accuracy: 0.883\n",
      "Epoch: 20/30..  Training Loss: 0.215..  Test Loss: 0.397..  Test Accuracy: 0.876\n",
      "Epoch: 21/30..  Training Loss: 0.210..  Test Loss: 0.396..  Test Accuracy: 0.882\n",
      "Epoch: 22/30..  Training Loss: 0.205..  Test Loss: 0.396..  Test Accuracy: 0.883\n",
      "Epoch: 23/30..  Training Loss: 0.207..  Test Loss: 0.379..  Test Accuracy: 0.880\n",
      "Epoch: 24/30..  Training Loss: 0.204..  Test Loss: 0.371..  Test Accuracy: 0.886\n",
      "Epoch: 25/30..  Training Loss: 0.196..  Test Loss: 0.412..  Test Accuracy: 0.875\n",
      "Epoch: 26/30..  Training Loss: 0.199..  Test Loss: 0.407..  Test Accuracy: 0.883\n",
      "Epoch: 27/30..  Training Loss: 0.194..  Test Loss: 0.423..  Test Accuracy: 0.883\n",
      "Epoch: 28/30..  Training Loss: 0.190..  Test Loss: 0.399..  Test Accuracy: 0.887\n",
      "Epoch: 29/30..  Training Loss: 0.185..  Test Loss: 0.409..  Test Accuracy: 0.881\n",
      "Epoch: 30/30..  Training Loss: 0.184..  Test Loss: 0.412..  Test Accuracy: 0.888\n"
     ]
    }
   ],
   "source": [
    "model = Classifier()\n",
    "criterion = nn.NLLLoss()\n",
    "optimizer = optim.Adam(model.parameters(), lr=0.003)\n",
    "\n",
    "epochs = 30\n",
    "steps = 0\n",
    "\n",
    "train_losses, test_losses = [], []\n",
    "for e in range(epochs):\n",
    "    running_loss = 0\n",
    "    for images, labels in trainloader:\n",
    "        \n",
    "        optimizer.zero_grad()\n",
    "        \n",
    "        log_ps = model(images)\n",
    "        loss = criterion(log_ps, labels)\n",
    "        loss.backward()\n",
    "        optimizer.step()\n",
    "        \n",
    "        running_loss += loss.item()\n",
    "        \n",
    "    else:\n",
    "        test_loss = 0\n",
    "        accuracy = 0\n",
    "        \n",
    "        # Turn off gradients for validation, saves memory and computations\n",
    "        with torch.no_grad():\n",
    "            for images, labels in testloader:\n",
    "                log_ps = model(images)\n",
    "                test_loss += criterion(log_ps, labels)\n",
    "                \n",
    "                ps = torch.exp(log_ps)\n",
    "                top_p, top_class = ps.topk(1, dim=1)\n",
    "                equals = top_class == labels.view(*top_class.shape)\n",
    "                accuracy += torch.mean(equals.type(torch.FloatTensor))\n",
    "                \n",
    "        train_losses.append(running_loss/len(trainloader))\n",
    "        test_losses.append(test_loss/len(testloader))\n",
    "\n",
    "        print(\"Epoch: {}/{}.. \".format(e+1, epochs),\n",
    "              \"Training Loss: {:.3f}.. \".format(running_loss/len(trainloader)),\n",
    "              \"Test Loss: {:.3f}.. \".format(test_loss/len(testloader)),\n",
    "              \"Test Accuracy: {:.3f}\".format(accuracy/len(testloader)))"
   ]
  },
  {
   "cell_type": "code",
   "execution_count": 23,
   "metadata": {},
   "outputs": [],
   "source": [
    "%matplotlib inline\n",
    "%config InlineBackend.figure_format = 'retina'\n",
    "\n",
    "import matplotlib.pyplot as plt"
   ]
  },
  {
   "cell_type": "code",
   "execution_count": 24,
   "metadata": {},
   "outputs": [
    {
     "data": {
      "text/plain": [
       "<matplotlib.legend.Legend at 0x23c97d4a630>"
      ]
     },
     "execution_count": 24,
     "metadata": {},
     "output_type": "execute_result"
    },
    {
     "data": {
      "image/png": "[encoded data removed]",
      "text/plain": [
       "<Figure size 432x288 with 1 Axes>"
      ]
     },
     "metadata": {
      "image/png": {
       "height": 248,
       "width": 380
      },
      "needs_background": "light"
     },
     "output_type": "display_data"
    }
   ],
   "source": [
    "plt.plot(train_losses, label='Training loss')\n",
    "plt.plot(test_losses, label='Validation loss')\n",
    "plt.legend(frameon=False)"
   ]
  },
  {
   "cell_type": "markdown",
   "metadata": {},
   "source": [
    "The network learns the training set better and better, resulting in lower training losses. However, it starts having problems generalizing to data outside the training set leading to the validation loss increasing. The ultimate goal of any deep learning model is to make predictions on new data, so we should strive to get the lowest validation loss possible. One option is to use the version of the model with the lowest validation loss, here the one around 8-10 training epochs. This strategy is called early-stopping. In practice, you'd save the model frequently as you're training then later choose the model with the lowest validation loss.\n",
    "\n",
    "The most common method to reduce overfitting (outside of early-stopping) is dropout, where we randomly drop input units. This forces the network to share information between weights, increasing it's ability to generalize to new data. Adding dropout in PyTorch is straightforward using the nn.Dropout module."
   ]
  },
  {
   "cell_type": "code",
   "execution_count": 25,
   "metadata": {},
   "outputs": [],
   "source": [
    "class Classifier(nn.Module):\n",
    "    def __init__(self):\n",
    "        super().__init__()\n",
    "        self.fc1 = nn.Linear(784, 256)\n",
    "        self.fc2 = nn.Linear(256, 128)\n",
    "        self.fc3 = nn.Linear(128, 64)\n",
    "        self.fc4 = nn.Linear(64, 10)\n",
    "\n",
    "        # Dropout module with 0.2 drop probability\n",
    "        self.dropout = nn.Dropout(p=0.2)\n",
    "\n",
    "    def forward(self, x):\n",
    "        # make sure input tensor is flattened\n",
    "        x = x.view(x.shape[0], -1)\n",
    "\n",
    "        # Now with dropout\n",
    "        x = self.dropout(F.relu(self.fc1(x)))\n",
    "        x = self.dropout(F.relu(self.fc2(x)))\n",
    "        x = self.dropout(F.relu(self.fc3(x)))\n",
    "\n",
    "        # output so no dropout here\n",
    "        x = F.log_softmax(self.fc4(x), dim=1)\n",
    "\n",
    "        return x"
   ]
  },
  {
   "cell_type": "code",
   "execution_count": null,
   "metadata": {},
   "outputs": [],
   "source": [
    "model = Classifier()\n",
    "criterion = nn.NLLLoss()\n",
    "optimizer = optim.Adam(model.parameters(), lr=0.003)\n",
    "\n",
    "epochs = 30\n",
    "steps = 0\n",
    "\n",
    "train_losses, test_losses = [], []\n",
    "for e in range(epochs):\n",
    "    running_loss = 0\n",
    "    for images, labels in trainloader:\n",
    "        \n",
    "        optimizer.zero_grad()\n",
    "        \n",
    "        log_ps = model(images)\n",
    "        loss = criterion(log_ps, labels)\n",
    "        loss.backward()\n",
    "        optimizer.step()\n",
    "        \n",
    "        running_loss += loss.item()\n",
    "        \n",
    "    else:\n",
    "        test_loss = 0\n",
    "        accuracy = 0\n",
    "        \n",
    "        # Turn off gradients for validation, saves memory and computations\n",
    "        with torch.no_grad():\n",
    "            model.eval()\n",
    "            for images, labels in testloader:\n",
    "                log_ps = model(images)\n",
    "                test_loss += criterion(log_ps, labels)\n",
    "                \n",
    "                ps = torch.exp(log_ps)\n",
    "                top_p, top_class = ps.topk(1, dim=1)\n",
    "                equals = top_class == labels.view(*top_class.shape)\n",
    "                accuracy += torch.mean(equals.type(torch.FloatTensor))\n",
    "        \n",
    "        model.train()\n",
    "        \n",
    "        train_losses.append(running_loss/len(trainloader))\n",
    "        test_losses.append(test_loss/len(testloader))\n",
    "\n",
    "        print(\"Epoch: {}/{}.. \".format(e+1, epochs),\n",
    "              \"Training Loss: {:.3f}.. \".format(train_losses[-1]),\n",
    "              \"Test Loss: {:.3f}.. \".format(test_losses[-1]),\n",
    "              \"Test Accuracy: {:.3f}\".format(accuracy/len(testloader)))"
   ]
  },
  {
   "cell_type": "code",
   "execution_count": 26,
   "metadata": {},
   "outputs": [],
   "source": [
    "%matplotlib inline\n",
    "%config InlineBackend.figure_format = 'retina'\n",
    "\n",
    "import matplotlib.pyplot as plt"
   ]
  },
  {
   "cell_type": "code",
   "execution_count": 27,
   "metadata": {},
   "outputs": [
    {
     "data": {
      "text/plain": [
       "<matplotlib.legend.Legend at 0x23ca0badf28>"
      ]
     },
     "execution_count": 27,
     "metadata": {},
     "output_type": "execute_result"
    },
    {
     "data": {
      "image/png": "[encoded data removed]",
      "text/plain": [
       "<Figure size 432x288 with 1 Axes>"
      ]
     },
     "metadata": {
      "image/png": {
       "height": 248,
       "width": 380
      },
      "needs_background": "light"
     },
     "output_type": "display_data"
    }
   ],
   "source": [
    "plt.plot(train_losses, label='Training loss')\n",
    "plt.plot(test_losses, label='Validation loss')\n",
    "plt.legend(frameon=False)"
   ]
  },
  {
   "cell_type": "markdown",
   "metadata": {},
   "source": [
    "Inference\n",
    "Now that the model is trained, we can use it for inference. We've done this before, but now we need to remember to set the model in inference mode with model.eval(). You'll also want to turn off autograd with the torch.no_grad() context."
   ]
  },
  {
   "cell_type": "code",
   "execution_count": 31,
   "metadata": {},
   "outputs": [],
   "source": [
    "# Import helper module (should be in the repo)\n",
    "import helper\n",
    "\n",
    "# Test out your network!\n",
    "\n",
    "model.eval()\n",
    "\n",
    "dataiter = iter(testloader)\n",
    "images, labels = dataiter.next()\n",
    "img = images[0]\n",
    "# Convert 2D image to 1D vector\n",
    "img = img.view(1, 784)\n",
    "\n",
    "# Calculate the class probabilities (softmax) for img\n",
    "with torch.no_grad():\n",
    "    output = model.forward(img)\n",
    "\n"
   ]
  },
  {
   "cell_type": "code",
   "execution_count": 32,
   "metadata": {},
   "outputs": [],
   "source": [
    "ps = torch.exp(output)\n",
    "top_p, top_class = ps.topk(1, dim=1)\n",
    "equals = top_class == labels[0].view(*top_class.shape)"
   ]
  },
  {
   "cell_type": "code",
   "execution_count": 33,
   "metadata": {},
   "outputs": [
    {
     "data": {
      "text/plain": [
       "tensor([[True]])"
      ]
     },
     "execution_count": 33,
     "metadata": {},
     "output_type": "execute_result"
    }
   ],
   "source": [
    "equalsS"
   ]
  },
  {
   "cell_type": "code",
   "execution_count": null,
   "metadata": {},
   "outputs": [],
   "source": []
  }
 ],
 "metadata": {
  "kernelspec": {
   "display_name": "Python 3",
   "language": "python",
   "name": "python3"
  },
  "language_info": {
   "codemirror_mode": {
    "name": "ipython",
    "version": 3
   },
   "file_extension": ".py",
   "mimetype": "text/x-python",
   "name": "python",
   "nbconvert_exporter": "python",
   "pygments_lexer": "ipython3",
   "version": "3.7.3"
  }
 },
 "nbformat": 4,
 "nbformat_minor": 2
}
